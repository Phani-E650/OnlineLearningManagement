{
 "cells": [
  {
   "cell_type": "code",
   "execution_count": null,
   "id": "4bfcc75e",
   "metadata": {},
   "outputs": [],
   "source": [
    "#import pandas\n",
    "import pandas as pd"
   ]
  },
  {
   "cell_type": "code",
   "execution_count": null,
   "id": "6d1eed59",
   "metadata": {},
   "outputs": [],
   "source": [
    "#read the csv, parse dates, use rental_id as the index column, and display first 5 rows"
   ]
  },
  {
   "cell_type": "code",
   "execution_count": null,
   "id": "2df68d8a",
   "metadata": {},
   "outputs": [],
   "source": [
    "#change the column name film_title to title, film_replacement_cost to replacement_cost, film_rental_rate to rental_rate,\n",
    "# film_rating to rating\n",
    "#the change should be applied to the original data for good"
   ]
  },
  {
   "cell_type": "code",
   "execution_count": null,
   "id": "08ae1ab6",
   "metadata": {},
   "outputs": [],
   "source": [
    "# Check its shape"
   ]
  },
  {
   "cell_type": "code",
   "execution_count": null,
   "id": "7ff61cc0",
   "metadata": {},
   "outputs": [],
   "source": [
    "# Check if there any missing values in any columns"
   ]
  },
  {
   "cell_type": "code",
   "execution_count": null,
   "id": "2a7891f7",
   "metadata": {},
   "outputs": [],
   "source": [
    "# drop rows with missing values then check the shape again"
   ]
  },
  {
   "cell_type": "code",
   "execution_count": null,
   "id": "b3a07918",
   "metadata": {},
   "outputs": [],
   "source": [
    "# Verify no more missing values"
   ]
  },
  {
   "cell_type": "code",
   "execution_count": null,
   "id": "a28cc85e",
   "metadata": {},
   "outputs": [],
   "source": [
    "# Get all movies by title"
   ]
  },
  {
   "cell_type": "code",
   "execution_count": null,
   "id": "402ae2c3",
   "metadata": {},
   "outputs": [],
   "source": [
    "# Notice that all movie names are in upper case, let's change them into a better format.\n",
    "# For example, let's keep each initial letter in upper case and make the rest letters in lower case.\n",
    "# See the example below:"
   ]
  },
  {
   "cell_type": "code",
   "execution_count": null,
   "id": "57d0bdb7",
   "metadata": {},
   "outputs": [],
   "source": [
    "# find the user who rented the most"
   ]
  },
  {
   "cell_type": "code",
   "execution_count": null,
   "id": "55eb2611",
   "metadata": {},
   "outputs": [],
   "source": [
    "# find all the movies rented by Olivares and Castillo"
   ]
  },
  {
   "cell_type": "code",
   "execution_count": null,
   "id": "002e5d66",
   "metadata": {},
   "outputs": [],
   "source": [
    "# common rented movies by OLIVARES (store_id = 2) and HUNT (store_id = 2)"
   ]
  },
  {
   "cell_type": "code",
   "execution_count": null,
   "id": "345b53bb",
   "metadata": {},
   "outputs": [],
   "source": [
    "# movies rented by Castillo (store_id = 1) sorted by their replacement cost"
   ]
  },
  {
   "cell_type": "code",
   "execution_count": null,
   "id": "c2bd6e8c",
   "metadata": {},
   "outputs": [],
   "source": [
    "# find the people who rented a movie from the same store multiple times"
   ]
  },
  {
   "cell_type": "code",
   "execution_count": null,
   "id": "4abf9e76",
   "metadata": {},
   "outputs": [],
   "source": [
    "# use Alvarez's data above to validate that he indeed rented the movie twice:"
   ]
  }
 ],
 "metadata": {
  "kernelspec": {
   "display_name": "Python 3 (ipykernel)",
   "language": "python",
   "name": "python3"
  },
  "language_info": {
   "codemirror_mode": {
    "name": "ipython",
    "version": 3
   },
   "file_extension": ".py",
   "mimetype": "text/x-python",
   "name": "python",
   "nbconvert_exporter": "python",
   "pygments_lexer": "ipython3",
   "version": "3.9.12"
  }
 },
 "nbformat": 4,
 "nbformat_minor": 5
}
